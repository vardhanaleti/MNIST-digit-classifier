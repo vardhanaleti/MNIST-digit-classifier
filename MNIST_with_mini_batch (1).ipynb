{
 "cells": [
  {
   "cell_type": "code",
   "execution_count": 1,
   "metadata": {},
   "outputs": [],
   "source": [
    "import numpy as np\n",
    "import pandas as pd\n",
    "%matplotlib inline \n",
    "import matplotlib\n",
    "import matplotlib.pyplot as plt\n",
    "import math\n",
    "from sklearn.metrics import classification_report, confusion_matrix\n",
    "from sklearn.metrics import accuracy_score "
   ]
  },
  {
   "cell_type": "code",
   "execution_count": 6,
   "metadata": {},
   "outputs": [],
   "source": [
    "#loading the dataset\n",
    "\n",
    "#train \n",
    "X_train = pd.read_csv('mnist_train.csv')\n",
    "Y_train = X_train['label'].values\n",
    "X_train = X_train.drop(['label'],axis =1)\n",
    "X_train = X_train.values\n",
    "X_train = X_train.T\n",
    "Y_train = np.reshape(Y_train,(1,-1))\n",
    "\n",
    "\n",
    "#test\n",
    "X_test = pd.read_csv('mnist_test.csv')\n",
    "Y_test = X_test['label'].values\n",
    "X_test = X_test.drop(['label'],axis = 1)\n",
    "X_test = X_test.values \n",
    "X_test = X_test.T\n",
    "Y_test = np.reshape(Y_test,(1,-1))\n",
    "\n",
    "#normalizing \n",
    "X_train = X_train/255\n",
    "X_test = X_test/255"
   ]
  },
  {
   "cell_type": "code",
   "execution_count": 7,
   "metadata": {},
   "outputs": [],
   "source": [
    "#one hot encoding the target values\n",
    "digits = 10\n",
    "examples = Y_train.shape[1]\n",
    "Y_train = np.eye(digits)[Y_train.astype('int32')]\n",
    "Y_train = Y_train.T\n",
    "Y_train = Y_train.reshape(digits,examples)"
   ]
  },
  {
   "cell_type": "code",
   "execution_count": 8,
   "metadata": {},
   "outputs": [],
   "source": [
    "# one hot encoding the test_target values\n",
    "digits = 10\n",
    "test_examples = Y_test.shape[1]\n",
    "Y_test = np.eye(digits)[Y_test.astype('int32')]\n",
    "Y_test = Y_test.T.reshape(digits,test_examples)\n",
    "#Y_test = Y_test.reshape(digits,test_examples)"
   ]
  },
  {
   "cell_type": "code",
   "execution_count": 9,
   "metadata": {},
   "outputs": [
    {
     "data": {
      "image/png": "[encoded data removed]",
      "text/plain": [
       "<Figure size 432x288 with 1 Axes>"
      ]
     },
     "metadata": {
      "needs_background": "light"
     },
     "output_type": "display_data"
    },
    {
     "name": "stdout",
     "output_type": "stream",
     "text": [
      "[0. 0. 0. 1. 0. 0. 0. 0. 0. 0.]\n"
     ]
    }
   ],
   "source": [
    "i = 7\n",
    "plt.imshow(X_train[:,i].reshape(28,28), cmap = matplotlib.cm.binary)\n",
    "plt.axis(\"off\")\n",
    "plt.show()\n",
    " \n",
    "print(Y_train[:,i])"
   ]
  },
  {
   "cell_type": "code",
   "execution_count": 10,
   "metadata": {},
   "outputs": [],
   "source": [
    "def sigmoid(Z):\n",
    "    return 1/(1+np.exp(-Z))"
   ]
  },
  {
   "cell_type": "code",
   "execution_count": 11,
   "metadata": {},
   "outputs": [],
   "source": [
    "def softmax(A_prev,W,b):\n",
    "    ZL = np.dot(W,A_prev) + b\n",
    "    AL = np.exp(ZL)/np.sum(np.exp(ZL),axis = 0)\n",
    "    store = (W,A_prev,b,ZL)\n",
    "    return AL,store"
   ]
  },
  {
   "cell_type": "code",
   "execution_count": 12,
   "metadata": {},
   "outputs": [],
   "source": [
    "def initialize_parameters(layer_dims):\n",
    "    np.random.seed(1)\n",
    "    parameters = {}\n",
    "    \n",
    "    L = len(layer_dims)\n",
    "    for l in range(1,L):\n",
    "        parameters['W'+str(l)] = np.random.randn(layer_dims[l],layer_dims[l-1])*0.01\n",
    "        parameters['b'+str(l)] = np.zeros([layer_dims[l],1])\n",
    "    return parameters    "
   ]
  },
  {
   "cell_type": "code",
   "execution_count": 13,
   "metadata": {},
   "outputs": [],
   "source": [
    "def forward_propagation(A_prev,W,b):\n",
    "    Z = np.dot(W,A_prev) + b\n",
    "    A = sigmoid(Z)\n",
    "    store = (W,A_prev,b,Z) #store is a tuple that stores information for back_propagation in the order(W,A_preb,b,Z)\n",
    "    return A,store"
   ]
  },
  {
   "cell_type": "code",
   "execution_count": 14,
   "metadata": {},
   "outputs": [],
   "source": [
    "def L_layer_forward(X_train,parameters):\n",
    "    stores = []\n",
    "    A = X_train\n",
    "    \n",
    "    L = len(parameters)//2\n",
    "    \n",
    "    for l in  range(1,L):    #starting from 1 and ending at L-1. Last element in the forward prop being A = A[L-1].\n",
    "        A_prev = A\n",
    "        A,store = forward_propagation(A_prev,parameters[\"W\"+str(l)],parameters[\"b\"+str(l)])\n",
    "        stores.append(store)\n",
    "        \n",
    "    #last layer is a sofmax acctivation layer and A = A[L-1]\n",
    "    AL,store = softmax(A,parameters[\"W\"+str(L)],parameters[\"b\"+str(L)])\n",
    "    \n",
    "    stores.append(store)    #stores is a list from 0 to L-1\n",
    "    return AL,stores"
   ]
  },
  {
   "cell_type": "code",
   "execution_count": 15,
   "metadata": {},
   "outputs": [],
   "source": [
    "def cost_function(AL,Y_train):\n",
    "    loss = np.sum(np.multiply(Y_train,np.log(AL)))\n",
    "    m = Y_train.shape[1]\n",
    "    total_cost = -(1/m)*loss\n",
    "    \n",
    "    return total_cost"
   ]
  },
  {
   "cell_type": "code",
   "execution_count": 16,
   "metadata": {},
   "outputs": [],
   "source": [
    "def backward_propagation(dAl,store): #takes current dAl and current store(Wl,Al-1,bl,Zl)\n",
    "    Wl,A_prev,bl,Zl = store\n",
    "    m = A_prev.shape[1]\n",
    "    \n",
    "    dZl = np.multiply(dAl,(sigmoid(Zl)*(1-sigmoid(Zl))))\n",
    "    dWl = np.dot(dZl,A_prev.T)/m\n",
    "    dbl = np.sum(dZl,axis =1,keepdims= True)/m\n",
    "    dA_prev = np.dot(Wl.T,dZl)\n",
    "    \n",
    "    return dWl,dbl,dA_prev"
   ]
  },
  {
   "cell_type": "code",
   "execution_count": 17,
   "metadata": {},
   "outputs": [],
   "source": [
    "def L_layer_backward(AL,Y_train,stores):\n",
    "    grads = {}\n",
    "    L = len(stores)\n",
    "    m = AL.shape[1]\n",
    "    \n",
    "    dZL = (AL-Y_train)\n",
    "    current_store = stores[L-1]\n",
    "    WL,A_prev,b,Z = current_store\n",
    "    grads[\"dW\"+str(L)] = np.dot(dZL,A_prev.T)/m\n",
    "    grads[\"db\"+str(L)] = np.sum(dZL,axis = 1,keepdims = True)/m\n",
    "    grads[\"dA\"+str(L-1)] = np.dot(WL.T,dZL)\n",
    "    \n",
    "    for l in reversed(range(L-1)): #from L-2 to 0\n",
    "        current_store = stores[l]\n",
    "        dW,db,dA_prev = backward_propagation(grads[\"dA\"+str(l+1)],current_store)\n",
    "        grads[\"dA\"+str(l)] = dA_prev\n",
    "        grads[\"dW\"+str(l+1)] = dW\n",
    "        grads[\"db\"+str(l+1)] = db\n",
    "        \n",
    "    return grads"
   ]
  },
  {
   "cell_type": "code",
   "execution_count": 18,
   "metadata": {},
   "outputs": [],
   "source": [
    "def update_parameters(parameters,grads,learning_rate):\n",
    "    L = len(parameters)//2\n",
    "    for l in range(L):\n",
    "        parameters[\"W\"+str(l+1)] = parameters[\"W\"+str(l+1)] - learning_rate*grads[\"dW\"+str(l+1)]\n",
    "        parameters[\"b\"+str(l+1)] = parameters[\"b\"+str(l+1)] - learning_rate*grads[\"db\"+str(l+1)]\n",
    "    return parameters\n",
    "        "
   ]
  },
  {
   "cell_type": "code",
   "execution_count": 19,
   "metadata": {},
   "outputs": [],
   "source": [
    "def random_mini_batches(X_train,Y_train,seed, mini_batch_size = 64):\n",
    "    np.random.seed(seed)\n",
    "    m = X_train.shape[1]\n",
    "    mini_batches = []\n",
    "    \n",
    "    permutation = np.random.permutation(m)\n",
    "    shuffled_X = X_train[:,permutation]\n",
    "    shuffled_Y = Y_train[:,permutation]\n",
    "    \n",
    "    num_complete_minibatches = math.floor(m/mini_batch_size)\n",
    "    for k in range(0,num_complete_minibatches):\n",
    "        mini_batch_X = shuffled_X[:,k*mini_batch_size:(k+1)*mini_batch_size]\n",
    "        mini_batch_Y = shuffled_Y[:,k*mini_batch_size:(k+1)*mini_batch_size]\n",
    "        mini_batch = (mini_batch_X,mini_batch_Y)\n",
    "        mini_batches.append(mini_batch)\n",
    "        \n",
    "    if m%mini_batch_size !=0:\n",
    "        mini_batch_X = shuffled_X[:,(k+1)*mini_batch_size: (k+1)*mini_batch_size+m%mini_batch_size]\n",
    "        mini_batch_Y = shuffled_Y[:,(k+1)*mini_batch_size: (k+1)*mini_batch_size+m%mini_batch_size]\n",
    "        mini_batch = (mini_batch_X,mini_batch_Y)\n",
    "        mini_batches.append(mini_batch)\n",
    "        \n",
    "    return mini_batches"
   ]
  },
  {
   "cell_type": "code",
   "execution_count": 23,
   "metadata": {},
   "outputs": [],
   "source": [
    "def model_with_mini_batch(X_train,Y_train,layer_dims,learning_rate,iterations):\n",
    "    costs = []\n",
    "    seed = 1\n",
    "    m = X_train.shape[1]\n",
    "    cost_avg = 0\n",
    "    parameters = initialize_parameters(layer_dims)\n",
    "    mini_batch_size = 64\n",
    "    \n",
    "    for i in range(0,iterations):\n",
    "        seed = seed + 1\n",
    "        mini_batches = random_mini_batches(X_train,Y_train,seed,mini_batch_size)\n",
    "        cost_total = 0\n",
    "        \n",
    "        for minibatch in mini_batches:\n",
    "            (minibatch_X,minibatch_Y) = minibatch\n",
    "            AL, stores = L_layer_forward(minibatch_X,parameters)\n",
    "            cost_total += cost_function(AL,minibatch_Y)\n",
    "            grads = L_layer_backward(AL,minibatch_Y,stores)\n",
    "            parameters = update_parameters(parameters,grads,learning_rate)\n",
    "        cost_avg = cost_total/m \n",
    "        print(\"Cost after iteration %i: %f\" %(i,cost_avg))\n",
    "        costs.append(cost_avg)\n",
    "    plt.plot((costs))\n",
    "    plt.ylabel('cost')\n",
    "    plt.xlabel('iterations')\n",
    "    \n",
    "    return parameters"
   ]
  },
  {
   "cell_type": "code",
   "execution_count": 24,
   "metadata": {},
   "outputs": [],
   "source": [
    "def model(X_train,Y_train,layer_dims,learning_rate,iterations):\n",
    "    \n",
    "    costs = []\n",
    "    parameters = initialize_parameters(layer_dims)\n",
    "    \n",
    "    for i in range(iterations):\n",
    "        AL,stores = L_layer_forward(X_train,parameters)\n",
    "        cost = cost_function(AL,Y_train)\n",
    "        grads = L_layer_backward(AL,Y_train,stores)\n",
    "        parameters = update_parameters(parameters,grads,learning_rate)\n",
    "        \n",
    "        costs.append(cost)\n",
    "        print(\"Cost after iteration %i: %f\" %(i,cost))\n",
    "    \n",
    "    plt.plot((costs))\n",
    "    plt.ylabel(\"cost\")\n",
    "    plt.xlabel(\"iterations\")\n",
    "    plt.show()\n",
    "    \n",
    "    return parameters"
   ]
  },
  {
   "cell_type": "code",
   "execution_count": 25,
   "metadata": {
    "scrolled": false
   },
   "outputs": [
    {
     "name": "stdout",
     "output_type": "stream",
     "text": [
      "Cost after iteration 0: 0.026303\n",
      "Cost after iteration 1: 0.006638\n",
      "Cost after iteration 2: 0.003429\n",
      "Cost after iteration 3: 0.002393\n",
      "Cost after iteration 4: 0.001892\n",
      "Cost after iteration 5: 0.001541\n",
      "Cost after iteration 6: 0.001304\n",
      "Cost after iteration 7: 0.001155\n",
      "Cost after iteration 8: 0.000992\n",
      "Cost after iteration 9: 0.000895\n"
     ]
    },
    {
     "data": {
      "image/png": "[encoded data removed]",
      "text/plain": [
       "<Figure size 432x288 with 1 Axes>"
      ]
     },
     "metadata": {
      "needs_background": "light"
     },
     "output_type": "display_data"
    }
   ],
   "source": [
    "layer_dims = [784,64,64,10]\n",
    "iterations = 10\n",
    "learning_rate = 1 \n",
    "parameters = model_with_mini_batch(X_train,Y_train,layer_dims,learning_rate,iterations)\n"
   ]
  },
  {
   "cell_type": "code",
   "execution_count": 26,
   "metadata": {},
   "outputs": [
    {
     "name": "stdout",
     "output_type": "stream",
     "text": [
      "[[ 969    0    2    2    1    6    6    2    4    4]\n",
      " [   0 1120    1    0    0    1    2    0    0    2]\n",
      " [   2    3 1012    4    4    0    3    7    1    0]\n",
      " [   0    0    4  976    0    9    0    3    5    2]\n",
      " [   0    0    1    0  944    1    5    1    4    4]\n",
      " [   3    1    0   10    0  863    4    0    4    2]\n",
      " [   1    4    0    0    5    4  935    0    6    0]\n",
      " [   1    2    8    7    3    0    0 1009    7    4]\n",
      " [   3    4    4    8    1    4    3    1  937    0]\n",
      " [   1    1    0    3   24    4    0    5    6  991]]\n",
      "              precision    recall  f1-score   support\n",
      "\n",
      "           0       0.99      0.97      0.98       996\n",
      "           1       0.99      0.99      0.99      1126\n",
      "           2       0.98      0.98      0.98      1036\n",
      "           3       0.97      0.98      0.97       999\n",
      "           4       0.96      0.98      0.97       960\n",
      "           5       0.97      0.97      0.97       887\n",
      "           6       0.98      0.98      0.98       955\n",
      "           7       0.98      0.97      0.98      1041\n",
      "           8       0.96      0.97      0.97       965\n",
      "           9       0.98      0.96      0.97      1035\n",
      "\n",
      "    accuracy                           0.98     10000\n",
      "   macro avg       0.98      0.98      0.98     10000\n",
      "weighted avg       0.98      0.98      0.98     10000\n",
      "\n"
     ]
    },
    {
     "data": {
      "text/plain": [
       "97.56"
      ]
     },
     "execution_count": 26,
     "metadata": {},
     "output_type": "execute_result"
    }
   ],
   "source": [
    "AL,stores = L_layer_forward(X_test,parameters)\n",
    "predictions = np.argmax(AL, axis =0)\n",
    "labels = np.argmax(Y_test, axis = 0)\n",
    "\n",
    "print(confusion_matrix(predictions, labels))\n",
    "print(classification_report(predictions,labels))\n",
    "accuracy_score(predictions,labels)*100"
   ]
  },
  {
   "cell_type": "code",
   "execution_count": 27,
   "metadata": {},
   "outputs": [
    {
     "data": {
      "image/png": "[encoded data removed]",
      "text/plain": [
       "<Figure size 432x288 with 1 Axes>"
      ]
     },
     "metadata": {
      "needs_background": "light"
     },
     "output_type": "display_data"
    },
    {
     "name": "stdout",
     "output_type": "stream",
     "text": [
      "4\n"
     ]
    }
   ],
   "source": [
    "i = 6\n",
    "\n",
    "\n",
    "plt.imshow(X_test[:,i].reshape(28,28), cmap = matplotlib.cm.binary)\n",
    "plt.axis(\"off\")\n",
    "plt.show()\n",
    " \n",
    "print(np.argmax(AL[:,i]))"
   ]
  },
  {
   "cell_type": "code",
   "execution_count": null,
   "metadata": {},
   "outputs": [],
   "source": []
  }
 ],
 "metadata": {
  "kernelspec": {
   "display_name": "Python 3",
   "language": "python",
   "name": "python3"
  },
  "language_info": {
   "codemirror_mode": {
    "name": "ipython",
    "version": 3
   },
   "file_extension": ".py",
   "mimetype": "text/x-python",
   "name": "python",
   "nbconvert_exporter": "python",
   "pygments_lexer": "ipython3",
   "version": "3.6.9"
  }
 },
 "nbformat": 4,
 "nbformat_minor": 4
}
